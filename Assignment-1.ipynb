{
 "cells": [
  {
   "cell_type": "markdown",
   "id": "69838335",
   "metadata": {},
   "source": [
    "## Assignment 1\n",
    "### Manav Jain\n",
    "### 20BCE1404"
   ]
  },
  {
   "cell_type": "markdown",
   "id": "e3514d73",
   "metadata": {},
   "source": [
    "### 1. Assign your Name to variable name and Age to variable age. Make a Python program that prints your name and age."
   ]
  },
  {
   "cell_type": "code",
   "execution_count": 1,
   "id": "1ec87fd4",
   "metadata": {},
   "outputs": [],
   "source": [
    "name = \"Manav Jain\"\n",
    "age = 20"
   ]
  },
  {
   "cell_type": "code",
   "execution_count": 2,
   "id": "e21f3ed3",
   "metadata": {},
   "outputs": [
    {
     "name": "stdout",
     "output_type": "stream",
     "text": [
      "My name is Manav Jain\n",
      "My age is 20 years\n"
     ]
    }
   ],
   "source": [
    "print(\"My name is\", name)\n",
    "print(\"My age is\", age, \"years\")"
   ]
  },
  {
   "cell_type": "markdown",
   "id": "25a95d4e",
   "metadata": {},
   "source": [
    "### 2. X=\"Datascience is used to extract meaningful insights.\" Split the string"
   ]
  },
  {
   "cell_type": "code",
   "execution_count": 42,
   "id": "d8f3cd1b",
   "metadata": {},
   "outputs": [],
   "source": [
    "X = \"Datascience is used to extract meaningful insights\"\n",
    "Y = X.split()"
   ]
  },
  {
   "cell_type": "code",
   "execution_count": 43,
   "id": "4fc154cf",
   "metadata": {},
   "outputs": [
    {
     "data": {
      "text/plain": [
       "['Datascience', 'is', 'used', 'to', 'extract', 'meaningful', 'insights']"
      ]
     },
     "execution_count": 43,
     "metadata": {},
     "output_type": "execute_result"
    }
   ],
   "source": [
    "Y"
   ]
  },
  {
   "cell_type": "markdown",
   "id": "b041992e",
   "metadata": {},
   "source": [
    "### 3. Make a function that gives multiplication of two numbers"
   ]
  },
  {
   "cell_type": "code",
   "execution_count": 44,
   "id": "5944c1a2",
   "metadata": {},
   "outputs": [],
   "source": [
    "def multiply(a, b):\n",
    "    return a*b"
   ]
  },
  {
   "cell_type": "code",
   "execution_count": 45,
   "id": "0c072bcf",
   "metadata": {},
   "outputs": [
    {
     "name": "stdout",
     "output_type": "stream",
     "text": [
      "Multiplication of 2 and 3 is 6\n"
     ]
    }
   ],
   "source": [
    "c = 2\n",
    "d = 3\n",
    "result = multiply(c,d)\n",
    "print(\"Multiplication of\", c, \"and\", d, \"is\", result)"
   ]
  },
  {
   "cell_type": "markdown",
   "id": "c1e51cbe",
   "metadata": {},
   "source": [
    "### 4. Create a Dictionary of 5 States with their capitals. also print the keys and values."
   ]
  },
  {
   "cell_type": "code",
   "execution_count": 46,
   "id": "fbf4dedd",
   "metadata": {},
   "outputs": [],
   "source": [
    "state_dict = {\"Gujarat\": \"Gandhinagar\", \n",
    "             \"Madhya Pradesh\": \"Bhopal\", \n",
    "             \"Punjab\": \"Chandigarh\", \n",
    "             \"Tamil Nadu\": \"Chennai\",\n",
    "             \"Maharashtra\": \"Mumbai\"}"
   ]
  },
  {
   "cell_type": "code",
   "execution_count": 47,
   "id": "93976ae2",
   "metadata": {},
   "outputs": [
    {
     "name": "stdout",
     "output_type": "stream",
     "text": [
      "States:  dict_items([('Gujarat', 'Gandhinagar'), ('Madhya Pradesh', 'Bhopal'), ('Punjab', 'Chandigarh'), ('Tamil Nadu', 'Chennai'), ('Maharashtra', 'Mumbai')])\n"
     ]
    }
   ],
   "source": [
    "print(\"States: \",state_dict.items())"
   ]
  },
  {
   "cell_type": "code",
   "execution_count": 48,
   "id": "783037da",
   "metadata": {},
   "outputs": [
    {
     "name": "stdout",
     "output_type": "stream",
     "text": [
      "Capitals:  dict_values(['Gandhinagar', 'Bhopal', 'Chandigarh', 'Chennai', 'Mumbai'])\n"
     ]
    }
   ],
   "source": [
    "print(\"Capitals: \",state_dict.values())"
   ]
  },
  {
   "cell_type": "markdown",
   "id": "6e45ead5",
   "metadata": {},
   "source": [
    "### 5. Create a list of 1000 numbers using range function."
   ]
  },
  {
   "cell_type": "code",
   "execution_count": 20,
   "id": "ba603a98",
   "metadata": {},
   "outputs": [],
   "source": [
    "range_list = [range(1,1000,1)]"
   ]
  },
  {
   "cell_type": "code",
   "execution_count": 49,
   "id": "900831e5",
   "metadata": {},
   "outputs": [
    {
     "data": {
      "text/plain": [
       "[range(1, 1000)]"
      ]
     },
     "execution_count": 49,
     "metadata": {},
     "output_type": "execute_result"
    }
   ],
   "source": [
    "range_list"
   ]
  },
  {
   "cell_type": "markdown",
   "id": "b89b373d",
   "metadata": {},
   "source": [
    "### 6. Create an identity matrix of dimension 4 by 4"
   ]
  },
  {
   "cell_type": "code",
   "execution_count": 50,
   "id": "e2cf2c4b",
   "metadata": {},
   "outputs": [],
   "source": [
    "import numpy as np"
   ]
  },
  {
   "cell_type": "code",
   "execution_count": 51,
   "id": "37620ecd",
   "metadata": {},
   "outputs": [
    {
     "name": "stdout",
     "output_type": "stream",
     "text": [
      "4-D identity matrix: \n",
      " [[1 0 0 0]\n",
      " [0 1 0 0]\n",
      " [0 0 1 0]\n",
      " [0 0 0 1]]\n"
     ]
    }
   ],
   "source": [
    "ide_mat = np.identity(4, dtype = int)\n",
    "print(\"4-D identity matrix: \\n\", ide_mat)"
   ]
  },
  {
   "cell_type": "markdown",
   "id": "cab56564",
   "metadata": {},
   "source": [
    "### 7. Create a 3x3 matrix with values ranging from 1 to 9"
   ]
  },
  {
   "cell_type": "code",
   "execution_count": 52,
   "id": "19b8cdb0",
   "metadata": {},
   "outputs": [],
   "source": [
    "range_mat = np.arange(1, 10).reshape(3,3)"
   ]
  },
  {
   "cell_type": "code",
   "execution_count": 53,
   "id": "14ba8078",
   "metadata": {},
   "outputs": [
    {
     "name": "stdout",
     "output_type": "stream",
     "text": [
      "3-D range matrix: \n",
      " [[1 2 3]\n",
      " [4 5 6]\n",
      " [7 8 9]]\n"
     ]
    }
   ],
   "source": [
    "print(\"3-D range matrix: \\n\", range_mat)"
   ]
  },
  {
   "cell_type": "markdown",
   "id": "a329cb64",
   "metadata": {},
   "source": [
    "### 8. Create 2 similar dimensional array and perform sum on them."
   ]
  },
  {
   "cell_type": "code",
   "execution_count": 54,
   "id": "74fa6d15",
   "metadata": {},
   "outputs": [],
   "source": [
    "arr1 = np.array([1, 2, 3, 4])\n",
    "arr2 = np.array([5, 6, 7, 8])"
   ]
  },
  {
   "cell_type": "code",
   "execution_count": 55,
   "id": "f9c6cc88",
   "metadata": {},
   "outputs": [
    {
     "name": "stdout",
     "output_type": "stream",
     "text": [
      "Sum of array 1 and 2:  [ 6  8 10 12]\n"
     ]
    }
   ],
   "source": [
    "arr3 = arr1 + arr2\n",
    "print(\"Sum of array 1 and 2: \", arr3)"
   ]
  },
  {
   "cell_type": "markdown",
   "id": "c417a7c7",
   "metadata": {},
   "source": [
    "### 9. Generate the series of dates from 1st Feb, 2023 to 1st March, 2023 (both inclusive)"
   ]
  },
  {
   "cell_type": "code",
   "execution_count": 56,
   "id": "3375d6a7",
   "metadata": {},
   "outputs": [],
   "source": [
    "import pandas as pd\n",
    "from datetime import datetime"
   ]
  },
  {
   "cell_type": "code",
   "execution_count": 57,
   "id": "de3650ba",
   "metadata": {},
   "outputs": [],
   "source": [
    "start_date = datetime.strptime(\"1-02-2023\", \"%d-%m-%Y\")\n",
    "end_date = datetime.strptime(\"1-03-2023\", \"%d-%m-%Y\")\n",
    "\n",
    "D = 'D'\n",
    "\n",
    "date_list = pd.date_range(start_date, end_date, freq=D)"
   ]
  },
  {
   "cell_type": "code",
   "execution_count": 58,
   "id": "c9f92ff8",
   "metadata": {},
   "outputs": [
    {
     "data": {
      "text/plain": [
       "DatetimeIndex(['2023-02-01', '2023-02-02', '2023-02-03', '2023-02-04',\n",
       "               '2023-02-05', '2023-02-06', '2023-02-07', '2023-02-08',\n",
       "               '2023-02-09', '2023-02-10', '2023-02-11', '2023-02-12',\n",
       "               '2023-02-13', '2023-02-14', '2023-02-15', '2023-02-16',\n",
       "               '2023-02-17', '2023-02-18', '2023-02-19', '2023-02-20',\n",
       "               '2023-02-21', '2023-02-22', '2023-02-23', '2023-02-24',\n",
       "               '2023-02-25', '2023-02-26', '2023-02-27', '2023-02-28',\n",
       "               '2023-03-01'],\n",
       "              dtype='datetime64[ns]', freq='D')"
      ]
     },
     "execution_count": 58,
     "metadata": {},
     "output_type": "execute_result"
    }
   ],
   "source": [
    "date_list"
   ]
  },
  {
   "cell_type": "markdown",
   "id": "f3939e75",
   "metadata": {},
   "source": [
    "### 10. Given a dictionary, convert it into corresponding dataframe and display it dictionary = {'Brand': ['Maruti', 'Renault', 'Hyndai'], 'Sales' : [250, 200, 240]}"
   ]
  },
  {
   "cell_type": "code",
   "execution_count": 59,
   "id": "bef8ace8",
   "metadata": {},
   "outputs": [],
   "source": [
    "dictionary = {'Brand': ['Maruti', 'Renault', 'Hyndai'], 'Sales' : [250, 200, 240]}\n",
    "dataframe = pd.DataFrame.from_dict(dictionary)"
   ]
  },
  {
   "cell_type": "code",
   "execution_count": 60,
   "id": "ad3ac8ea",
   "metadata": {},
   "outputs": [
    {
     "data": {
      "text/html": [
       "<div>\n",
       "<style scoped>\n",
       "    .dataframe tbody tr th:only-of-type {\n",
       "        vertical-align: middle;\n",
       "    }\n",
       "\n",
       "    .dataframe tbody tr th {\n",
       "        vertical-align: top;\n",
       "    }\n",
       "\n",
       "    .dataframe thead th {\n",
       "        text-align: right;\n",
       "    }\n",
       "</style>\n",
       "<table border=\"1\" class=\"dataframe\">\n",
       "  <thead>\n",
       "    <tr style=\"text-align: right;\">\n",
       "      <th></th>\n",
       "      <th>Brand</th>\n",
       "      <th>Sales</th>\n",
       "    </tr>\n",
       "  </thead>\n",
       "  <tbody>\n",
       "    <tr>\n",
       "      <th>0</th>\n",
       "      <td>Maruti</td>\n",
       "      <td>250</td>\n",
       "    </tr>\n",
       "    <tr>\n",
       "      <th>1</th>\n",
       "      <td>Renault</td>\n",
       "      <td>200</td>\n",
       "    </tr>\n",
       "    <tr>\n",
       "      <th>2</th>\n",
       "      <td>Hyndai</td>\n",
       "      <td>240</td>\n",
       "    </tr>\n",
       "  </tbody>\n",
       "</table>\n",
       "</div>"
      ],
      "text/plain": [
       "     Brand  Sales\n",
       "0   Maruti    250\n",
       "1  Renault    200\n",
       "2   Hyndai    240"
      ]
     },
     "execution_count": 60,
     "metadata": {},
     "output_type": "execute_result"
    }
   ],
   "source": [
    "dataframe"
   ]
  },
  {
   "cell_type": "code",
   "execution_count": null,
   "id": "7e05d84a",
   "metadata": {},
   "outputs": [],
   "source": []
  },
  {
   "cell_type": "code",
   "execution_count": null,
   "id": "9914962a",
   "metadata": {},
   "outputs": [],
   "source": []
  },
  {
   "cell_type": "code",
   "execution_count": null,
   "id": "e089f236",
   "metadata": {},
   "outputs": [],
   "source": []
  }
 ],
 "metadata": {
  "kernelspec": {
   "display_name": "Python 3 (ipykernel)",
   "language": "python",
   "name": "python3"
  },
  "language_info": {
   "codemirror_mode": {
    "name": "ipython",
    "version": 3
   },
   "file_extension": ".py",
   "mimetype": "text/x-python",
   "name": "python",
   "nbconvert_exporter": "python",
   "pygments_lexer": "ipython3",
   "version": "3.10.0"
  }
 },
 "nbformat": 4,
 "nbformat_minor": 5
}
